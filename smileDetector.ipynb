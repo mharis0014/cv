{
  "nbformat": 4,
  "nbformat_minor": 0,
  "metadata": {
    "colab": {
      "name": "smile.ipynb",
      "provenance": [],
      "authorship_tag": "ABX9TyMiW0qSp+pe4la4gIDJw/98",
      "include_colab_link": true
    },
    "kernelspec": {
      "name": "python3",
      "display_name": "Python 3"
    },
    "accelerator": "GPU"
  },
  "cells": [
    {
      "cell_type": "markdown",
      "metadata": {
        "id": "view-in-github",
        "colab_type": "text"
      },
      "source": [
        "<a href=\"https://colab.research.google.com/github/mharis0014/cv/blob/master/smileDetector.ipynb\" target=\"_parent\"><img src=\"https://colab.research.google.com/assets/colab-badge.svg\" alt=\"Open In Colab\"/></a>"
      ]
    },
    {
      "cell_type": "code",
      "metadata": {
        "id": "F7K5w6kjZtJC",
        "colab_type": "code",
        "colab": {}
      },
      "source": [
        "from zipfile import ZipFile\n",
        "file_name = \"datasets.zip\"\n",
        "\n",
        "with ZipFile (file_name, 'r') as zip:\n",
        "  zip.extractall()\n",
        "  print('Data extract from zip file')"
      ],
      "execution_count": 0,
      "outputs": []
    },
    {
      "cell_type": "markdown",
      "metadata": {
        "id": "5oZSu16hgNN1",
        "colab_type": "text"
      },
      "source": [
        "Convolutional Neural Network\n",
        "\n",
        "Installing Theano\n",
        "pip install --upgrade --no-deps git+git://github.com/Theano/Theano.git\n",
        "\n",
        "Installing Tensorflow\n",
        "Install Tensorflow from the website: https://www.tensorflow.org/versions/r0.12/get_started/os_setup.html\n",
        "\n",
        "Installing Keras\n",
        "pip install --upgrade keras"
      ]
    },
    {
      "cell_type": "markdown",
      "metadata": {
        "id": "pNplHF91gaMX",
        "colab_type": "text"
      },
      "source": [
        "***Part 1 - Building the CNN***"
      ]
    },
    {
      "cell_type": "code",
      "metadata": {
        "id": "eUORdQGNgnVv",
        "colab_type": "code",
        "colab": {
          "base_uri": "https://localhost:8080/",
          "height": 34
        },
        "outputId": "a1620752-2f2f-47a9-cbab-93552e2d51a0"
      },
      "source": [
        "# Importing the Keras libraries and packages\n",
        "from keras.models import Sequential\n",
        "from keras.layers import Convolution2D\n",
        "from keras.layers import MaxPooling2D\n",
        "from keras.layers import Flatten\n",
        "from keras.layers import Dense"
      ],
      "execution_count": 2,
      "outputs": [
        {
          "output_type": "stream",
          "text": [
            "Using TensorFlow backend.\n"
          ],
          "name": "stderr"
        }
      ]
    },
    {
      "cell_type": "code",
      "metadata": {
        "id": "ik4dhj5Bg5B4",
        "colab_type": "code",
        "colab": {}
      },
      "source": [
        "# Initialising the CNN\n",
        "classifier = Sequential()"
      ],
      "execution_count": 0,
      "outputs": []
    },
    {
      "cell_type": "code",
      "metadata": {
        "id": "SmDvT0WOg82k",
        "colab_type": "code",
        "colab": {}
      },
      "source": [
        "# Step 1 - Convolution\n",
        "classifier.add(Convolution2D(32, (3, 3), input_shape = (64, 64, 3), activation = 'relu'))"
      ],
      "execution_count": 0,
      "outputs": []
    },
    {
      "cell_type": "code",
      "metadata": {
        "id": "VrDUFaHDhCdl",
        "colab_type": "code",
        "colab": {}
      },
      "source": [
        "# Step 2 - Pooling\n",
        "classifier.add(MaxPooling2D(pool_size = (2, 2)))"
      ],
      "execution_count": 0,
      "outputs": []
    },
    {
      "cell_type": "code",
      "metadata": {
        "id": "dJNerGyAhGWO",
        "colab_type": "code",
        "colab": {}
      },
      "source": [
        "# Adding a second convolutional layer\n",
        "classifier.add(Convolution2D(32, (3, 3), activation = 'relu'))\n",
        "classifier.add(MaxPooling2D(pool_size = (2, 2)))"
      ],
      "execution_count": 0,
      "outputs": []
    },
    {
      "cell_type": "code",
      "metadata": {
        "id": "9VXCX-kChJSR",
        "colab_type": "code",
        "colab": {}
      },
      "source": [
        "# Step 3 - Flattening\n",
        "classifier.add(Flatten())"
      ],
      "execution_count": 0,
      "outputs": []
    },
    {
      "cell_type": "code",
      "metadata": {
        "id": "WEf43JvQhL8t",
        "colab_type": "code",
        "colab": {}
      },
      "source": [
        "# Step 4 - Full connection\n",
        "classifier.add(Dense(activation = \"relu\", units = 128))\n",
        "classifier.add(Dense(activation = \"sigmoid\", units = 1))"
      ],
      "execution_count": 0,
      "outputs": []
    },
    {
      "cell_type": "code",
      "metadata": {
        "id": "H2LJxlomhPhd",
        "colab_type": "code",
        "colab": {}
      },
      "source": [
        "# Compiling the CNN\n",
        "classifier.compile(optimizer = \"adam\", loss = \"binary_crossentropy\", metrics = [\"accuracy\"])"
      ],
      "execution_count": 0,
      "outputs": []
    },
    {
      "cell_type": "markdown",
      "metadata": {
        "id": "4jOOqod5hWjU",
        "colab_type": "text"
      },
      "source": [
        "***Part 2 - Fitting the CNN to the images***"
      ]
    },
    {
      "cell_type": "code",
      "metadata": {
        "id": "kXejk2_WhTg_",
        "colab_type": "code",
        "colab": {}
      },
      "source": [
        "from keras.preprocessing.image import ImageDataGenerator"
      ],
      "execution_count": 0,
      "outputs": []
    },
    {
      "cell_type": "code",
      "metadata": {
        "id": "VMI2_DnmheKb",
        "colab_type": "code",
        "colab": {}
      },
      "source": [
        "train_datagen = ImageDataGenerator(rescale=1./255,\n",
        "                                  shear_range=0.2,\n",
        "                                  zoom_range=0.2,\n",
        "                                  horizontal_flip=True)"
      ],
      "execution_count": 0,
      "outputs": []
    },
    {
      "cell_type": "code",
      "metadata": {
        "id": "yVTXuuxGhvaT",
        "colab_type": "code",
        "colab": {}
      },
      "source": [
        "test_datagen = ImageDataGenerator(rescale=1./255)"
      ],
      "execution_count": 0,
      "outputs": []
    },
    {
      "cell_type": "code",
      "metadata": {
        "id": "2dUHzwDKh0Ox",
        "colab_type": "code",
        "colab": {
          "base_uri": "https://localhost:8080/",
          "height": 34
        },
        "outputId": "44433052-78da-4acf-be56-e728bfb21ba3"
      },
      "source": [
        "training_set = train_datagen.flow_from_directory('datasets/train_folder',\n",
        "                                                target_size=(64, 64),\n",
        "                                                batch_size=32,\n",
        "                                                class_mode='binary')"
      ],
      "execution_count": 20,
      "outputs": [
        {
          "output_type": "stream",
          "text": [
            "Found 2800 images belonging to 2 classes.\n"
          ],
          "name": "stdout"
        }
      ]
    },
    {
      "cell_type": "code",
      "metadata": {
        "id": "4-4WTXZQiHwd",
        "colab_type": "code",
        "colab": {
          "base_uri": "https://localhost:8080/",
          "height": 34
        },
        "outputId": "739b46ae-5398-4a71-f286-e35d0af4d57d"
      },
      "source": [
        "test_set = test_datagen.flow_from_directory('datasets/test_folder',\n",
        "                                            target_size=(64, 64),\n",
        "                                            batch_size=32,\n",
        "                                            class_mode='binary')"
      ],
      "execution_count": 21,
      "outputs": [
        {
          "output_type": "stream",
          "text": [
            "Found 1200 images belonging to 2 classes.\n"
          ],
          "name": "stdout"
        }
      ]
    },
    {
      "cell_type": "code",
      "metadata": {
        "id": "LOleI-yeiNhs",
        "colab_type": "code",
        "colab": {
          "base_uri": "https://localhost:8080/",
          "height": 1000
        },
        "outputId": "72e7eb43-4880-4a9e-b4f3-d6e06d18410d"
      },
      "source": [
        "classifier.fit_generator(training_set,\n",
        "                        steps_per_epoch=2800,\n",
        "                        epochs=30,\n",
        "                        validation_data=test_set,\n",
        "                        validation_steps=1200)"
      ],
      "execution_count": 23,
      "outputs": [
        {
          "output_type": "stream",
          "text": [
            "Epoch 1/30\n",
            "2800/2800 [==============================] - 188s 67ms/step - loss: 0.0367 - accuracy: 0.9871 - val_loss: 0.6576 - val_accuracy: 0.8993\n",
            "Epoch 2/30\n",
            "2800/2800 [==============================] - 186s 66ms/step - loss: 0.0265 - accuracy: 0.9911 - val_loss: 0.1034 - val_accuracy: 0.8808\n",
            "Epoch 3/30\n",
            "2800/2800 [==============================] - 185s 66ms/step - loss: 0.0189 - accuracy: 0.9934 - val_loss: 0.1532 - val_accuracy: 0.8951\n",
            "Epoch 4/30\n",
            "2800/2800 [==============================] - 186s 66ms/step - loss: 0.0177 - accuracy: 0.9942 - val_loss: 1.0000 - val_accuracy: 0.8933\n",
            "Epoch 5/30\n",
            "2800/2800 [==============================] - 188s 67ms/step - loss: 0.0134 - accuracy: 0.9957 - val_loss: 0.6271 - val_accuracy: 0.8992\n",
            "Epoch 6/30\n",
            "2800/2800 [==============================] - 185s 66ms/step - loss: 0.0137 - accuracy: 0.9955 - val_loss: 0.2093 - val_accuracy: 0.8991\n",
            "Epoch 7/30\n",
            "2800/2800 [==============================] - 185s 66ms/step - loss: 0.0103 - accuracy: 0.9968 - val_loss: 0.3207 - val_accuracy: 0.8927\n",
            "Epoch 8/30\n",
            "2800/2800 [==============================] - 184s 66ms/step - loss: 0.0129 - accuracy: 0.9959 - val_loss: 0.1167 - val_accuracy: 0.9000\n",
            "Epoch 9/30\n",
            "2800/2800 [==============================] - 184s 66ms/step - loss: 0.0109 - accuracy: 0.9967 - val_loss: 0.6727 - val_accuracy: 0.9051\n",
            "Epoch 10/30\n",
            "2800/2800 [==============================] - 185s 66ms/step - loss: 0.0094 - accuracy: 0.9970 - val_loss: 0.5778 - val_accuracy: 0.9100\n",
            "Epoch 11/30\n",
            "2800/2800 [==============================] - 185s 66ms/step - loss: 0.0089 - accuracy: 0.9971 - val_loss: 2.3261 - val_accuracy: 0.8847\n",
            "Epoch 12/30\n",
            "2800/2800 [==============================] - 184s 66ms/step - loss: 0.0086 - accuracy: 0.9974 - val_loss: 0.2563 - val_accuracy: 0.9010\n",
            "Epoch 13/30\n",
            "2800/2800 [==============================] - 187s 67ms/step - loss: 0.0086 - accuracy: 0.9975 - val_loss: 2.3288 - val_accuracy: 0.8864\n",
            "Epoch 14/30\n",
            "2800/2800 [==============================] - 187s 67ms/step - loss: 0.0077 - accuracy: 0.9978 - val_loss: 0.3833 - val_accuracy: 0.8985\n",
            "Epoch 15/30\n",
            "2800/2800 [==============================] - 187s 67ms/step - loss: 0.0075 - accuracy: 0.9977 - val_loss: 0.1306 - val_accuracy: 0.8943\n",
            "Epoch 16/30\n",
            "2800/2800 [==============================] - 186s 66ms/step - loss: 0.0068 - accuracy: 0.9980 - val_loss: 1.2392 - val_accuracy: 0.8965\n",
            "Epoch 17/30\n",
            "2800/2800 [==============================] - 186s 66ms/step - loss: 0.0060 - accuracy: 0.9982 - val_loss: 0.4599 - val_accuracy: 0.9016\n",
            "Epoch 18/30\n",
            "2800/2800 [==============================] - 187s 67ms/step - loss: 0.0082 - accuracy: 0.9977 - val_loss: 1.5997 - val_accuracy: 0.9000\n",
            "Epoch 19/30\n",
            "2800/2800 [==============================] - 188s 67ms/step - loss: 0.0074 - accuracy: 0.9978 - val_loss: 0.1806 - val_accuracy: 0.9050\n",
            "Epoch 20/30\n",
            "2800/2800 [==============================] - 188s 67ms/step - loss: 0.0063 - accuracy: 0.9982 - val_loss: 1.3059 - val_accuracy: 0.9023\n",
            "Epoch 21/30\n",
            "2800/2800 [==============================] - 187s 67ms/step - loss: 0.0070 - accuracy: 0.9979 - val_loss: 1.3064 - val_accuracy: 0.9086\n",
            "Epoch 22/30\n",
            "2800/2800 [==============================] - 186s 66ms/step - loss: 0.0065 - accuracy: 0.9982 - val_loss: 1.1807 - val_accuracy: 0.9023\n",
            "Epoch 23/30\n",
            "2800/2800 [==============================] - 187s 67ms/step - loss: 0.0062 - accuracy: 0.9983 - val_loss: 0.5603 - val_accuracy: 0.9085\n",
            "Epoch 24/30\n",
            "2800/2800 [==============================] - 187s 67ms/step - loss: 0.0065 - accuracy: 0.9983 - val_loss: 1.6585 - val_accuracy: 0.8983\n",
            "Epoch 25/30\n",
            "2800/2800 [==============================] - 187s 67ms/step - loss: 0.0064 - accuracy: 0.9983 - val_loss: 0.5552 - val_accuracy: 0.8918\n",
            "Epoch 26/30\n",
            "2800/2800 [==============================] - 186s 66ms/step - loss: 0.0047 - accuracy: 0.9986 - val_loss: 2.2811 - val_accuracy: 0.8992\n",
            "Epoch 27/30\n",
            "2800/2800 [==============================] - 186s 67ms/step - loss: 0.0058 - accuracy: 0.9984 - val_loss: 0.3451 - val_accuracy: 0.8901\n",
            "Epoch 28/30\n",
            "2800/2800 [==============================] - 186s 66ms/step - loss: 0.0061 - accuracy: 0.9984 - val_loss: 1.5947 - val_accuracy: 0.9050\n",
            "Epoch 29/30\n",
            "2800/2800 [==============================] - 186s 66ms/step - loss: 0.0039 - accuracy: 0.9988 - val_loss: 0.3930 - val_accuracy: 0.8901\n",
            "Epoch 30/30\n",
            "2800/2800 [==============================] - 186s 67ms/step - loss: 0.0062 - accuracy: 0.9983 - val_loss: 0.2366 - val_accuracy: 0.8941\n"
          ],
          "name": "stdout"
        },
        {
          "output_type": "execute_result",
          "data": {
            "text/plain": [
              "<keras.callbacks.callbacks.History at 0x7f2bc02f4cc0>"
            ]
          },
          "metadata": {
            "tags": []
          },
          "execution_count": 23
        }
      ]
    }
  ]
}